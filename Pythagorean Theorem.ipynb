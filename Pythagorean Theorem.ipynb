{
 "cells": [
  {
   "cell_type": "markdown",
   "metadata": {},
   "source": [
    "# The Pythagorean Theorem"
   ]
  },
  {
   "cell_type": "code",
   "execution_count": 1,
   "metadata": {},
   "outputs": [
    {
     "data": {
      "text/html": [
       "<script>\n",
       "  function code_toggle() {\n",
       "    if (code_shown){\n",
       "      $('div.input').hide('500');\n",
       "      $('#toggleButton').val('Show Code')\n",
       "    } else {\n",
       "      $('div.input').show('500');\n",
       "      $('#toggleButton').val('Hide Code')\n",
       "    }\n",
       "    code_shown = !code_shown\n",
       "  }\n",
       "  \n",
       "  $( document ).ready(function(){\n",
       "    code_shown=false;\n",
       "    $('div.input').hide()\n",
       "  });\n",
       "</script>\n",
       "<form action=\"javascript:code_toggle()\"><input type=\"submit\" id=\"toggleButton\" value=\"Show Code\"></form>"
      ],
      "text/plain": [
       "<IPython.core.display.HTML object>"
      ]
     },
     "execution_count": 1,
     "metadata": {},
     "output_type": "execute_result"
    }
   ],
   "source": [
    "#Running this cell displays a button to toggle hidden code\n",
    "#From: http://chris-said.io/2016/02/13/how-to-make-polished-jupyter-presentations-with-optional-code-visibility/\n",
    "\n",
    "from IPython.display import HTML\n",
    "\n",
    "HTML('''<script>\n",
    "  function code_toggle() {\n",
    "    if (code_shown){\n",
    "      $('div.input').hide('500');\n",
    "      $('#toggleButton').val('Show Code')\n",
    "    } else {\n",
    "      $('div.input').show('500');\n",
    "      $('#toggleButton').val('Hide Code')\n",
    "    }\n",
    "    code_shown = !code_shown\n",
    "  }\n",
    "  \n",
    "  $( document ).ready(function(){\n",
    "    code_shown=false;\n",
    "    $('div.input').hide()\n",
    "  });\n",
    "</script>\n",
    "<form action=\"javascript:code_toggle()\"><input type=\"submit\" id=\"toggleButton\" value=\"Show Code\"></form>''')"
   ]
  },
  {
   "cell_type": "markdown",
   "metadata": {},
   "source": [
    "## A Visual Explanation\n",
    "\n",
    "You've probably used the Pythagorean theorem many times before to calculate side lengths of right-angle triangles. The familiar formula is:\n",
    "\n",
    "\\begin{equation*}\n",
    "a^2 + b^2 = c^2\n",
    "\\end{equation*}\n",
    "\n",
    "Where $a$ and $b$ are the shorter sides of the triangle, and $c$ is the hypotenuse.\n",
    "\n",
    "It's certainly useful, but you might not know where the formula comes from. In this notebook, we'll walk through a visual explanation for the Pythagorean theorem.\n",
    "\n",
    "Say we have a standard right-angle triangle, with side lengths $a$, $b$ and $c$. In this notebook, we'll always draw lines of length $a$ in red, $b$ in blue, and $c$ in green."
   ]
  },
  {
   "cell_type": "markdown",
   "metadata": {},
   "source": [
    "![Pythagorean Theorem](https://github.com/Ariel-VB/Pythagorean-Theorem/blob/master/PT.png?raw=true)"
   ]
  },
  {
   "cell_type": "markdown",
   "metadata": {},
   "source": [
    "Now, we construct two diagrams using this triangle. The first, shown on the left below, uses four copies of our triangle to form an outer square and an inner square. Notice that the inner square has an area of $c^2$, since it has a side length of $c$. The outer square has side length $a + b$, and so has an area of $(a + b)^2$, or $a^2 + 2ab + b^2$.\n",
    "\n",
    "The second diagram, on the right below, also uses four copies of the triangle. One outer square is formed, along with two inner squares. The inner squares have areas equal to $a^2$ and $b^2$, because they have side lengths $a$ and $b$ respectively. The outer square has the same side length as our first diagram, $a + b$, and so it has the same area, $a^2 + 2ab + b^2$."
   ]
  },
  {
   "cell_type": "markdown",
   "metadata": {},
   "source": [
    "![Pythagorean Theorem](https://github.com/Ariel-VB/Pythagorean-Theorem/blob/master/PT%20Squares.png?raw=true)"
   ]
  },
  {
   "cell_type": "markdown",
   "metadata": {},
   "source": [
    "Let's compare the two diagrams:\n",
    "\n",
    "They have the same total area: $a^2 + 2ab + b^2$\n",
    "\n",
    "Now if we take away the four triangles from both diagrams, the total area should still be equal since we are removing four identical triangles from both sides.\n",
    "\n",
    "The area of the left diagram without the triangles is the green square: $c^2$\n",
    "\n",
    "The area of the right diagram without the triangles is the red square plus the blue square: $a^2 + b^2$\n",
    "\n",
    "Finally, since we know both areas must be equal, we get:\n",
    "\n",
    "\\begin{equation*}\n",
    "a^2 + b^2 = c^2\n",
    "\\end{equation*}\n",
    "\n",
    "### Try it!\n",
    "To see that this works for any value of $a$, try running the cell below and using the slider to pick different values for $a$ between 0 and 1. $b$ will be equal to $1-a$. Do you see how removing the four triangles from each diagram shows that $a^2 + b^2 = c^2$?\n"
   ]
  },
  {
   "cell_type": "code",
   "execution_count": 11,
   "metadata": {},
   "outputs": [
    {
     "data": {
      "application/vnd.jupyter.widget-view+json": {
       "model_id": "63ff4a038d5e4cf1b7c1d3fcdb149a79",
       "version_major": 2,
       "version_minor": 0
      },
      "text/plain": [
       "interactive(children=(FloatSlider(value=0.0, description='a', max=1.0), Output()), _dom_classes=('widget-inter…"
      ]
     },
     "metadata": {},
     "output_type": "display_data"
    }
   ],
   "source": [
    "import matplotlib.pyplot as plt\n",
    "from ipywidgets import interact, interactive\n",
    "import numpy as np\n",
    "\n",
    "%matplotlib inline\n",
    "\n",
    "def pltline (a):\n",
    "    \n",
    "    #Setting up the figure and first graph:\n",
    "    gridsize = (1, 2)\n",
    "    fig = plt.figure(figsize=(20, 10))\n",
    "    ax1 = plt.subplot2grid(gridsize, (0, 0))\n",
    "    \n",
    "    #Setting up necessary x/y values:\n",
    "    zero = np.linspace(0,0)\n",
    "    one = np.linspace(1,1)\n",
    "    zero_one = np.linspace(0,1)\n",
    "    x1 = np.linspace(0,a)\n",
    "    x2 = np.linspace(a,1)\n",
    "    x3 = np.linspace(1-a, 0)\n",
    "    x4 = np.linspace(1-a, 1)\n",
    "    x5 = np.linspace(1,a)\n",
    "    x6 = np.linspace(0, 1-a)\n",
    "    x7 = np.linspace(a,a)\n",
    "    x8 = np.linspace(a,0)\n",
    "    \n",
    "    #Bottom horizontal lines:\n",
    "    plt.plot(x1, zero, color = \"red\")\n",
    "    plt.plot(x2, zero, color = \"blue\")\n",
    "    \n",
    "    #Top horizontal lines:\n",
    "    plt.plot((1 - x1), one, color = \"red\")\n",
    "    plt.plot((1 - x2), one, color = \"blue\")    \n",
    "    \n",
    "    #Left vertical lines:\n",
    "    plt.plot(zero, (1 - x1), color = \"red\")\n",
    "    plt.plot(zero, (1 - x2), color = \"blue\")\n",
    "    \n",
    "    #Right vertical lines:\n",
    "    plt.plot(one, x1, color = \"red\")\n",
    "    plt.plot(one, x2, color = \"blue\")\n",
    "    \n",
    "    #Left diagonal:\n",
    "    plt.plot(x1, x3, color = \"green\")\n",
    "    \n",
    "    #Right diagonal:\n",
    "    plt.plot(x4, x5, color = \"green\")\n",
    "    \n",
    "    #Top diagonal:\n",
    "    plt.plot(x6, x4, color = \"green\")\n",
    "    \n",
    "    #Bottom diagonal:    \n",
    "    plt.plot(x2, x1, color = \"green\")\n",
    "    \n",
    "    #Shading\n",
    "    #Background:\n",
    "    plt.fill_between(zero_one, zero, one, color = \"#9bf79e\")\n",
    "    \n",
    "    #Triangles:\n",
    "    plt.fill_between(x1, x3, 0, color = '#d1d1d1')\n",
    "    plt.fill_between(x6, x4, 1, color = '#d1d1d1')\n",
    "    plt.fill_between(x4, x5, 1, color = '#d1d1d1')\n",
    "    plt.fill_between(x2, x1, 0, color = '#d1d1d1')\n",
    "    \n",
    "    \n",
    "    #Setting up second graph:\n",
    "    ax2 = plt.subplot2grid(gridsize, (0, 1))\n",
    "    \n",
    "    #Bottom left square:\n",
    "    plt.plot(x1, zero, color = \"red\")\n",
    "    plt.plot(zero, x1, color = \"red\")\n",
    "    plt.plot(x1, x7, color = \"red\")\n",
    "    plt.plot(x7, x1, color = \"red\")\n",
    "    \n",
    "    #Top right square:\n",
    "    plt.plot(x2, x7, color = \"blue\")\n",
    "    plt.plot(x7, x2, color = \"blue\")\n",
    "    plt.plot(x2, one, color = \"blue\")\n",
    "    plt.plot(one, x2, color = \"blue\")\n",
    "    \n",
    "    #Top rectangle:\n",
    "    plt.plot(zero, x2, color = \"blue\")\n",
    "    plt.plot(x1, one, color = \"red\")\n",
    "    \n",
    "    #Bottom rectangle:\n",
    "    plt.plot(x2, zero, color = \"blue\")\n",
    "    plt.plot(one, x1, color = \"red\")\n",
    "    \n",
    "    #Diagonals:\n",
    "    plt.plot(x1, x2, color = \"green\")\n",
    "    plt.plot(x2, x8, color = \"green\")\n",
    "    \n",
    "    #Shading\n",
    "    #Background:\n",
    "    plt.fill_between(zero_one, zero, one, color = \"#d1d1d1\")\n",
    "    \n",
    "    #Squares:\n",
    "    plt.fill_between(x1, zero, a, color = \"#f79b9b\")\n",
    "    plt.fill_between(x2, a, one, color = \"#9bbdf7\")\n",
    "    \n",
    "    plt.show()\n",
    "    \n",
    "widget = interactive(pltline, a = (0,1,.1))\n",
    "\n",
    "display(widget)\n",
    "\n",
    "widget.children[0].layout.width = '98%'\n",
    "\n",
    "\n",
    "#Blue: #9bbdf7\n",
    "#Green: #9bf79e\n",
    "#Red: #f79b9b\n",
    "#Grey: #d1d1d1\n"
   ]
  },
  {
   "cell_type": "markdown",
   "metadata": {},
   "source": [
    "#### Sources:\n",
    "\n",
    "http://www.ams.org/publicoutreach/feature-column/fcarc-visual1"
   ]
  }
 ],
 "metadata": {
  "kernelspec": {
   "display_name": "Python 3",
   "language": "python",
   "name": "python3"
  },
  "language_info": {
   "codemirror_mode": {
    "name": "ipython",
    "version": 3
   },
   "file_extension": ".py",
   "mimetype": "text/x-python",
   "name": "python",
   "nbconvert_exporter": "python",
   "pygments_lexer": "ipython3",
   "version": "3.6.5"
  }
 },
 "nbformat": 4,
 "nbformat_minor": 2
}
